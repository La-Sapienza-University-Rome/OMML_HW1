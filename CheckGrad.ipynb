{
 "cells": [
  {
   "cell_type": "code",
   "execution_count": 240,
   "metadata": {},
   "outputs": [],
   "source": [
    "import numpy as np\n",
    "import pandas as pd\n",
    "from scipy.optimize import minimize\n",
    "from sklearn.model_selection import train_test_split\n",
    "import itertools\n",
    "import matplotlib.pyplot as plt\n",
    "import time\n",
    "\n",
    "df = pd.read_csv('DATA.csv')\n",
    "\n",
    "train, test = train_test_split(df, test_size=0.255, random_state=1939671)\n",
    "\n",
    "X = np.array(train[['x1', 'x2']])\n",
    "y = np.array(train['y'])\n",
    "\n",
    "X_test = np.array(train[['x1', 'x2']])\n",
    "y_test = np.array(train['y'])"
   ]
  },
  {
   "cell_type": "code",
   "execution_count": 241,
   "metadata": {},
   "outputs": [],
   "source": [
    "import copy\n",
    "\n",
    "def J(f, x, dx=1e-8):\n",
    "    n = x.shape\n",
    "    func = f(x)\n",
    "    jac = np.zeros(n)\n",
    "    x_plus = x.copy()\n",
    "    for i in range(n[0]):\n",
    "        for j in range(n[1]):  # through columns to allow for vector addition\n",
    "            x_plus[i, j] = x[i, j] + dx\n",
    "            jac[i, j] = (f(x_plus) - func)/dx\n",
    "            x_plus = x.copy()\n",
    "    return jac"
   ]
  },
  {
   "cell_type": "code",
   "execution_count": 242,
   "metadata": {},
   "outputs": [],
   "source": [
    "def J_(f, x, dx=1e-8):\n",
    "    n = x.shape\n",
    "    func = f(x)\n",
    "    jac = np.zeros(n)\n",
    "    x_plus = x.copy()\n",
    "    for i in range(n[0]):\n",
    "        x_plus[i] = x[i] + dx\n",
    "        jac[i] = (f(x_plus) - func)/dx\n",
    "        x_plus = x.copy()\n",
    "    return jac"
   ]
  },
  {
   "cell_type": "code",
   "execution_count": 243,
   "metadata": {},
   "outputs": [],
   "source": [
    "N = 10\n",
    "P = len(y)\n",
    "rho = 1e-5\n",
    "sigma = 1\n",
    "\n",
    "W = np.random.randn(X.shape[1], N)\n",
    "b = np.random.randn(N)\n",
    "v = np.random.randn(N)"
   ]
  },
  {
   "cell_type": "code",
   "execution_count": 244,
   "metadata": {},
   "outputs": [],
   "source": [
    "def loss_v(v, X=X, y=y, sigma=sigma, N=N, rho=rho, b=b, W=W):\n",
    "    P = len(y)\n",
    "    x0 = np.concatenate((W, v, b), axis=None)\n",
    "    norm = np.linalg.norm(x0)\n",
    "    pred = feedforward(X, W, b, v, sigma)\n",
    "    res = ((np.sum((pred-y)**2))*P**(-1) + rho*norm)*0.5    \n",
    "    \n",
    "    return res\n",
    "\n",
    "def loss_b(b, X=X, y=y, sigma=sigma, N=N, rho=rho, W=W, v=v):\n",
    "    P = len(y)\n",
    "    x0 = np.concatenate((W, v, b), axis=None)\n",
    "    norm = np.linalg.norm(x0)\n",
    "    pred = feedforward(X, W, b, v, sigma)\n",
    "    res = ((np.sum((pred-y)**2))*P**(-1) + rho*norm)*0.5    \n",
    "    \n",
    "    return res\n",
    "\n",
    "def loss_W(W, X=X, y=y, sigma=sigma, N=N, rho=rho, b=b, v=v):\n",
    "    P = len(y)\n",
    "    x0 = np.concatenate((W, v, b), axis=None)\n",
    "    norm = np.linalg.norm(x0)\n",
    "    pred = feedforward(X, W, b, v, sigma)\n",
    "    res = ((np.sum((pred-y)**2))*P**(-1) + rho*norm)*0.5    \n",
    "    \n",
    "    return res"
   ]
  },
  {
   "cell_type": "code",
   "execution_count": 245,
   "metadata": {},
   "outputs": [],
   "source": [
    "def J(f, x, dx=1e-8):\n",
    "    n = x.shape\n",
    "    func = f(x)\n",
    "    jac = np.zeros(n)\n",
    "    x_plus = x.copy()\n",
    "    for i in range(n[0]):\n",
    "        for j in range(n[1]):  # through columns to allow for vector addition\n",
    "            x_plus[i, j] = x[i, j] + dx\n",
    "            jac[i, j] = (f(x_plus) - func)/dx\n",
    "            x_plus = x.copy()\n",
    "    return jac"
   ]
  },
  {
   "cell_type": "code",
   "execution_count": 246,
   "metadata": {},
   "outputs": [],
   "source": [
    "grads = {}\n",
    "\n",
    "linear_layer = (np.dot(X, W) + b)\n",
    "a_2 = tanh(linear_layer, sigma)\n",
    "dJdf = (1/P)*(np.dot(a_2, v) - y)\n",
    "dtanh = 1 - tanh(linear_layer, sigma)**2\n",
    "\n",
    "dW1_1 = np.tensordot(dJdf, np.transpose(v), axes=0)\n",
    "dW1_2 = dW1_1*dtanh\n",
    "\n",
    "grads['v'] = np.dot(dJdf, a_2) + rho*v\n",
    "grads['b'] = np.sum(dW1_2, axis=0) + rho*b\n",
    "grads['W'] = np.tensordot(np.transpose(X), dW1_2, axes=1) + rho*W"
   ]
  },
  {
   "cell_type": "code",
   "execution_count": 248,
   "metadata": {},
   "outputs": [
    {
     "data": {
      "text/plain": [
       "array([ 1.8528743 , -2.01334771, -0.13348647,  0.2653282 ,  0.08347953,\n",
       "        0.86578567,  0.37603805, -0.05454677,  0.63909962, -0.47925415])"
      ]
     },
     "execution_count": 248,
     "metadata": {},
     "output_type": "execute_result"
    }
   ],
   "source": [
    "J_(loss_b, b).T"
   ]
  },
  {
   "cell_type": "code",
   "execution_count": 249,
   "metadata": {},
   "outputs": [
    {
     "data": {
      "text/plain": [
       "array([ 1.85286697, -2.01334346, -0.133469  ,  0.26534062,  0.0834944 ,\n",
       "        0.86578087,  0.37602891, -0.05454799,  0.63910002, -0.47924422])"
      ]
     },
     "execution_count": 249,
     "metadata": {},
     "output_type": "execute_result"
    }
   ],
   "source": [
    "grads['b'].T"
   ]
  },
  {
   "cell_type": "code",
   "execution_count": 250,
   "metadata": {},
   "outputs": [
    {
     "data": {
      "text/plain": [
       "array([-2.17146248,  2.09753619, -1.89946476, -0.85523464, -2.46582719,\n",
       "       -2.92206916,  2.03785362,  0.87218108,  1.95432097, -3.01721457])"
      ]
     },
     "execution_count": 250,
     "metadata": {},
     "output_type": "execute_result"
    }
   ],
   "source": [
    "J_(loss_v, v).T"
   ]
  },
  {
   "cell_type": "code",
   "execution_count": 251,
   "metadata": {},
   "outputs": [
    {
     "data": {
      "text/plain": [
       "array([-2.17147831,  2.09755044, -1.89946608, -0.85523861, -2.46583668,\n",
       "       -2.92208456,  2.0378613 ,  0.87218206,  1.95430903, -3.01722667])"
      ]
     },
     "execution_count": 251,
     "metadata": {},
     "output_type": "execute_result"
    }
   ],
   "source": [
    "grads['v'].T"
   ]
  },
  {
   "cell_type": "code",
   "execution_count": 252,
   "metadata": {},
   "outputs": [
    {
     "data": {
      "text/plain": [
       "array([[ 2.18423981,  1.01448627],\n",
       "       [-2.29417552, -3.47231506],\n",
       "       [ 0.20155877,  0.16223964],\n",
       "       [ 0.49514366,  0.85626191],\n",
       "       [ 0.3882425 , -0.06685354],\n",
       "       [ 0.55433347,  2.10735198],\n",
       "       [-1.26066908, -1.31668436],\n",
       "       [-0.12335022, -0.20334312],\n",
       "       [ 0.90082519,  2.73310832],\n",
       "       [ 0.49209614,  1.04697211]])"
      ]
     },
     "execution_count": 252,
     "metadata": {},
     "output_type": "execute_result"
    }
   ],
   "source": [
    "J(loss_W, W).T"
   ]
  },
  {
   "cell_type": "code",
   "execution_count": 253,
   "metadata": {},
   "outputs": [
    {
     "data": {
      "text/plain": [
       "array([[ 2.18424679,  1.01449237],\n",
       "       [-2.29418415, -3.47231551],\n",
       "       [ 0.20156665,  0.1622423 ],\n",
       "       [ 0.49515617,  0.85625122],\n",
       "       [ 0.38824641, -0.06683079],\n",
       "       [ 0.5543509 ,  2.10735299],\n",
       "       [-1.26067619, -1.31668368],\n",
       "       [-0.12336169, -0.20333638],\n",
       "       [ 0.90080865,  2.73311284],\n",
       "       [ 0.4921099 ,  1.04697404]])"
      ]
     },
     "execution_count": 253,
     "metadata": {},
     "output_type": "execute_result"
    }
   ],
   "source": [
    "grads['W'].T"
   ]
  },
  {
   "cell_type": "code",
   "execution_count": null,
   "metadata": {},
   "outputs": [],
   "source": []
  }
 ],
 "metadata": {
  "kernelspec": {
   "display_name": "Python 3",
   "language": "python",
   "name": "python3"
  },
  "language_info": {
   "codemirror_mode": {
    "name": "ipython",
    "version": 3
   },
   "file_extension": ".py",
   "mimetype": "text/x-python",
   "name": "python",
   "nbconvert_exporter": "python",
   "pygments_lexer": "ipython3",
   "version": "3.7.9"
  }
 },
 "nbformat": 4,
 "nbformat_minor": 2
}
